{
 "cells": [
  {
   "cell_type": "code",
   "execution_count": null,
   "id": "32f4c5e1",
   "metadata": {},
   "outputs": [
    {
     "name": "stdout",
     "output_type": "stream",
     "text": [
      "sys.version_info(major=3, minor=11, micro=5, releaselevel='final', serial=0)\n",
      "3.11.5 (v3.11.5:cce6ba91b3, Aug 24 2023, 10:50:31) [Clang 13.0.0 (clang-1300.0.29.30)]\n"
     ]
    }
   ],
   "source": [
    "import sys\n",
    "print(sys.version_info)\n",
    "print(sys.version)"
   ]
  },
  {
   "cell_type": "code",
   "execution_count": null,
   "id": "09edf470",
   "metadata": {},
   "outputs": [],
   "source": [
    "# Better way1.py 실행 결과\n",
    "import sys\n",
    "print(sys.version_info)\n",
    "print(sys.version)\n"
   ]
  },
  {
   "cell_type": "markdown",
   "id": "c8cab1cd",
   "metadata": {},
   "source": [
    "### better way 3 : bytes 와 str 의 차이를 알아두어라"
   ]
  },
  {
   "cell_type": "code",
   "execution_count": 5,
   "id": "1d9def29",
   "metadata": {},
   "outputs": [
    {
     "name": "stdout",
     "output_type": "stream",
     "text": [
      "'foo'\n",
      "'bar'\n",
      "'한'\n"
     ]
    }
   ],
   "source": [
    "def do_str(bytes_or_str):\n",
    "    if isinstance(bytes_or_str, bytes):\n",
    "        value = bytes_or_str.decode('utf-8')\n",
    "    else:\n",
    "        value = bytes_or_str\n",
    "    return value # str 인스턴스\n",
    "\n",
    "print(repr(do_str(b'foo')))\n",
    "print(repr(do_str('bar')))\n",
    "print(repr(do_str(b'\\xed\\x95\\x9c')))"
   ]
  },
  {
   "cell_type": "code",
   "execution_count": 6,
   "id": "a3ae5a94",
   "metadata": {},
   "outputs": [
    {
     "name": "stdout",
     "output_type": "stream",
     "text": [
      "b'onetwo'\n",
      "onetwo\n"
     ]
    }
   ],
   "source": [
    "print(b'one' + b'two')\n",
    "print('one' + 'two')"
   ]
  },
  {
   "cell_type": "code",
   "execution_count": 7,
   "id": "f2832997",
   "metadata": {},
   "outputs": [
    {
     "ename": "TypeError",
     "evalue": "can only concatenate str (not \"bytes\") to str",
     "output_type": "error",
     "traceback": [
      "\u001b[31m---------------------------------------------------------------------------\u001b[39m",
      "\u001b[31mTypeError\u001b[39m                                 Traceback (most recent call last)",
      "\u001b[36mCell\u001b[39m\u001b[36m \u001b[39m\u001b[32mIn[7]\u001b[39m\u001b[32m, line 1\u001b[39m\n\u001b[32m----> \u001b[39m\u001b[32m1\u001b[39m \u001b[33;43m'\u001b[39;49m\u001b[33;43mone\u001b[39;49m\u001b[33;43m'\u001b[39;49m\u001b[43m \u001b[49m\u001b[43m+\u001b[49m\u001b[43m \u001b[49m\u001b[33;43mb\u001b[39;49m\u001b[33;43m'\u001b[39;49m\u001b[33;43mtwo\u001b[39;49m\u001b[33;43m'\u001b[39;49m\n",
      "\u001b[31mTypeError\u001b[39m: can only concatenate str (not \"bytes\") to str"
     ]
    }
   ],
   "source": [
    "'one' + b'two'"
   ]
  },
  {
   "cell_type": "code",
   "execution_count": 8,
   "id": "490eecbf",
   "metadata": {},
   "outputs": [
    {
     "ename": "TypeError",
     "evalue": "write() argument must be str, not bytes",
     "output_type": "error",
     "traceback": [
      "\u001b[31m---------------------------------------------------------------------------\u001b[39m",
      "\u001b[31mTypeError\u001b[39m                                 Traceback (most recent call last)",
      "\u001b[36mCell\u001b[39m\u001b[36m \u001b[39m\u001b[32mIn[8]\u001b[39m\u001b[32m, line 2\u001b[39m\n\u001b[32m      1\u001b[39m \u001b[38;5;28;01mwith\u001b[39;00m \u001b[38;5;28mopen\u001b[39m(\u001b[33m'\u001b[39m\u001b[33mdata.bin\u001b[39m\u001b[33m'\u001b[39m,\u001b[33m'\u001b[39m\u001b[33mw\u001b[39m\u001b[33m'\u001b[39m) \u001b[38;5;28;01mas\u001b[39;00m f:\n\u001b[32m----> \u001b[39m\u001b[32m2\u001b[39m     \u001b[43mf\u001b[49m\u001b[43m.\u001b[49m\u001b[43mwrite\u001b[49m\u001b[43m(\u001b[49m\u001b[33;43mb\u001b[39;49m\u001b[33;43m'\u001b[39;49m\u001b[38;5;130;43;01m\\xf1\u001b[39;49;00m\u001b[38;5;130;43;01m\\xf2\u001b[39;49;00m\u001b[38;5;130;43;01m\\xf3\u001b[39;49;00m\u001b[38;5;130;43;01m\\xf4\u001b[39;49;00m\u001b[38;5;130;43;01m\\xf5\u001b[39;49;00m\u001b[33;43m'\u001b[39;49m\u001b[43m)\u001b[49m\n",
      "\u001b[31mTypeError\u001b[39m: write() argument must be str, not bytes"
     ]
    }
   ],
   "source": [
    "with open('data.bin','w') as f:\n",
    "    f.write(b'\\xf1\\xf2\\xf3\\xf4\\xf5')"
   ]
  },
  {
   "cell_type": "code",
   "execution_count": null,
   "id": "9cfc247f",
   "metadata": {},
   "outputs": [],
   "source": [
    "# Better way 3: bytes와 str의 차이 - 올바른 파일 쓰기 방법\n",
    "with open('data.bin', 'wb') as f:  # 바이너리 모드로 열기\n",
    "    f.write(b'\\xf1\\xf2\\xf3\\xf4\\xf5')\n",
    "\n",
    "# 파일 내용 확인\n",
    "with open('data.bin', 'rb') as f:  # 바이너리 모드로 읽기\n",
    "    data = f.read()\n",
    "    print(f\"읽은 데이터: {data}\")\n",
    "    print(f\"데이터 타입: {type(data)}\")\n"
   ]
  },
  {
   "cell_type": "code",
   "execution_count": null,
   "id": "c6cd3263",
   "metadata": {},
   "outputs": [],
   "source": [
    "# Better way3.py에서 선택한 부분만 실행\n",
    "# bytes와 문자열의 차이점\n",
    "\n",
    "a = b'h\\x65llo'  # bytes 객체\n",
    "print(\"bytes 객체:\")\n",
    "print(f\"list(a): {list(a)}\")\n",
    "print(f\"a: {a}\")\n",
    "\n",
    "print(\"\\n\" + \"=\"*30)\n",
    "\n",
    "a = 'a\\u0300 propos'  # 문자열 객체 (유니코드 정규화)\n",
    "print(\"문자열 객체:\")\n",
    "print(f\"list(a): {list(a)}\")\n",
    "print(f\"a: {a}\")\n"
   ]
  },
  {
   "cell_type": "code",
   "execution_count": null,
   "id": "4ccf0093",
   "metadata": {},
   "outputs": [],
   "source": [
    "\n"
   ]
  },
  {
   "cell_type": "code",
   "execution_count": null,
   "id": "573f6cbf",
   "metadata": {},
   "outputs": [],
   "source": [
    "\n"
   ]
  },
  {
   "cell_type": "code",
   "execution_count": null,
   "id": "390e9ba5",
   "metadata": {},
   "outputs": [],
   "source": [
    "\n"
   ]
  },
  {
   "cell_type": "code",
   "execution_count": null,
   "id": "b4eb7ec8",
   "metadata": {},
   "outputs": [],
   "source": [
    "\n"
   ]
  },
  {
   "cell_type": "markdown",
   "id": "563769b5",
   "metadata": {},
   "source": [
    "### better way 4"
   ]
  },
  {
   "cell_type": "code",
   "execution_count": 1,
   "id": "5bd74966",
   "metadata": {},
   "outputs": [
    {
     "name": "stdout",
     "output_type": "stream",
     "text": [
      "이진수: 187, 십육진수: 3167\n",
      "my_var     = 1.23\n"
     ]
    }
   ],
   "source": []
  },
  {
   "cell_type": "code",
   "execution_count": null,
   "id": "45c41f53",
   "metadata": {},
   "outputs": [
    {
     "name": "stdout",
     "output_type": "stream",
     "text": [
      "#0: 아보카도       = 1.25\n",
      "#1: 바나나        = 2.50\n",
      "#2: 체리         = 15.00\n",
      "#1: 아보카도       = 1\n",
      "#2: 바나나        = 2\n",
      "#3: 체리         = 15\n"
     ]
    }
   ],
   "source": [
    "\n",
    "\n",
    "## pytho code\n",
    "# pantry = [\n",
    "#     ('아보카도', 1.25),\n",
    "#     ('바나나', 2.5),\n",
    "#     ('체리', 15),\n",
    "# ]\n",
    "# for i, (item, count) in enumerate(pantry):\n",
    "#     print('#%d: %-10s = %.2f' % (i, item, count))\n",
    "    \n",
    "    \n",
    "# for i, (item, count) in enumerate(pantry):\n",
    "#     print('#%d: %-10s = %d' % (\n",
    "#         i + 1,\n",
    "#         item.title(),\n",
    "#         round(count)))\n",
    "\n",
    "pantry = [\n",
    "    ('아보카도', 1.25),\n",
    "    ('바나나', 2.5),\n",
    "    ('체리', 15),\n",
    "]\n",
    "for i, (item, count) in enumerate(pantry):\n",
    "    print('#%d: %-10s = %.2f' % (i, item, count))\n",
    "    \n",
    "    \n",
    "for i, (item, count) in enumerate(pantry):\n",
    "    print('#%d: %-10s = %d' % (\n",
    "        i + 1,\n",
    "        item.title(),\n",
    "        round(count)))\n",
    "\n",
    "# 💡 내가 배운 포인트:\n",
    "# - 여러개 값을 넣고싶으면 다 나열해야한다.\n",
    "# - 만약 길이를 맞춰야한다면 다 다르기 때문에 가독성이 떨어진다.\n"
   ]
  },
  {
   "cell_type": "code",
   "execution_count": null,
   "id": "1a87ffc0",
   "metadata": {},
   "outputs": [],
   "source": [
    "#\n",
    "# 인터폴레이션 \n",
    "#\n",
    "\n",
    "formatted = f'{key!r:<10} = {value:.2f}'\n",
    "print(formatted)\n",
    "\n",
    "f_string = f'{key:<10} = {value:.2f}'\n",
    "\n",
    "c_tuple  = '%-10s = %.2f' % (key, value)\n",
    "\n",
    "str_args = '{:<10} = {:.2f}'.format(key, value)\n",
    "\n",
    "str_kw   = '{key:<10} = {value:.2f}'.format(key=key,\n",
    "                                            value=value)\n",
    "\n",
    "c_dict   = '%(key)-10s = %(value).2f' % {'key': key,\n",
    "                                         'value': value}\n",
    "\n",
    "assert c_tuple == c_dict == f_string\n",
    "assert str_args == str_kw == f_string\n",
    "\n",
    "for i, (item, count) in enumerate(pantry):\n",
    "    old_style = '#%d: %-10s = %d' % (\n",
    "        i + 1,\n",
    "        item.title(),\n",
    "        round(count))\n",
    "        \n",
    "    new_style = '#{}: {:<10s} = {}'.format(\n",
    "        i + 1,\n",
    "        item.title(),\n",
    "        round(count))\n",
    "        \n",
    "    f_string = f'#{i+1}: {item.title():<10s} = {round(count)}'\n",
    "        \n",
    "    assert old_style == new_style == f_string\n",
    "\n",
    "for i, (item, count) in enumerate(pantry):\n",
    "    print(f'#{i+1}: '\n",
    "    f'{item.title():<10s} = '\n",
    "    f'{round(count)}')\n",
    "\n",
    "places = 3\n",
    "number = 1.23456\n",
    "print(f'내가 고른 숫자는 {number:.{places}f}')\n",
    "\n",
    "# 💡 내가 배운 포인트:\n",
    "# - 인터플레이션(interpoliation) 문법을 사용하면 좋다.\n",
    "# - 문자열 앞에 f를 붙이면 된다.\n",
    "# - 문자열 안에 변수를 넣을 수 있다.\n",
    "# - 문자열 안에 식을 넣을 수 있다.\n",
    "# - 문자열 안에 함수를 넣을 수 있다.\n",
    "# - 문자열 안에 메서드를 넣을 수 있다.\n",
    "# - !r은 **“이 변수를 repr() 형태로 변환해서 출력하라”**는 명령아. 그래서 로그, 디버깅, 데이터 포맷 확인할 때 아주 유용\n",
    "# 참고\n",
    "# 변환\t의미\t적용 함수\t예시 결과 (x = \"hi\")\n",
    "# !s\t사람이 읽기 쉬운 문자열\tstr()\t'hi' → hi\n",
    "# !r\t개발자용 표현(디버그용)\trepr()\t'hi'\n",
    "# !a\t아스키 표현\tascii()\té → '\\xe9'\n",
    "\n",
    "\n"
   ]
  },
  {
   "cell_type": "markdown",
   "id": "c85965c9",
   "metadata": {},
   "source": [
    "### Better way 5"
   ]
  },
  {
   "cell_type": "code",
   "execution_count": null,
   "id": "13ab6e0a",
   "metadata": {},
   "outputs": [
    {
     "name": "stdout",
     "output_type": "stream",
     "text": [
      "{'빨강': ['5'], '파랑': ['0'], '초록': ['']}\n",
      "빨강:  ['5']\n",
      "초록:  ['']\n",
      "투명도:  None\n"
     ]
    }
   ],
   "source": [
    "# Python code\n",
    "\n",
    "from urllib.parse import parse_qs\n",
    "\n",
    "my_values = parse_qs('빨강=5&파랑=0&초록=',\n",
    "                     keep_blank_values=True)\n",
    "print(repr(my_values))\n",
    "\n",
    "print('빨강: ', my_values.get('빨강'))\n",
    "print('초록: ', my_values.get('초록'))\n",
    "print('투명도: ', my_values.get('투명도'))\n",
    "\n",
    "# 💡 내가 배운 포인트:\n",
    "# - 실제 딕셔너리 데이터에서 키를 찾을 때는 딕셔너리 메서드를 사용하는 것이 좋다.\n",
    "# - 딕셔너리 메서드는 키가 없을 때 예외를 발생시키지 않고 None을 반환한다.\n",
    "# - get 함수를 사용하면 해당하는 데이터를 호출 할 수 있고 공란이면 공란, 아예 없는 value 는 None 값으로 반환.\n"
   ]
  },
  {
   "cell_type": "code",
   "execution_count": null,
   "id": "0cbddd5d",
   "metadata": {},
   "outputs": [],
   "source": [
    "# Python code\n",
    "# 질의 문자열이 `빨강=5&파랑=0&초록='인 경우\n",
    "red = my_values.get('빨강', [''])[0] or 0\n",
    "green = my_values.get('파랑', [''])[0] or 0\n",
    "opacity = my_values.get('투명도', [''])[0] or 0\n",
    "print(f'빨강: {red!r}')\n",
    "print(f'초록: {green!r}')\n",
    "print(f'투명도: {opacity!r}')\n",
    "\n",
    "# 내가 배운 포인트:\n",
    "# - or 구문을 사용하면 none 값을 0으로 변환 할 수 있다.\n",
    "# - !r 구문을 사용하면 none 값을 0으로 변환 할 수 있다."
   ]
  },
  {
   "cell_type": "code",
   "execution_count": 5,
   "id": "2d5839d6",
   "metadata": {},
   "outputs": [
    {
     "name": "stdout",
     "output_type": "stream",
     "text": [
      "['5']\n",
      "5\n"
     ]
    }
   ],
   "source": [
    "# Python code\n",
    "red = int(my_values.get('빨강', [''])[0] or 0) # 결과가 정상적으로 나오지만 가독성이 좋지 않음.\n",
    "\n",
    "red_str = my_values.get('빨강', [''])\n",
    "red = int(red_str[0]) if red_str[0] else 0 # 같은 값이지만 if/else 구문을 사용하면 간략하게 표현 가능.\n",
    "\n",
    "print(red_str)\n",
    "print(red)\n",
    "# 내가 배운 포인트\n",
    "# - 가능하면 if/else 구문을 이용해서 간략하고 가독성 좋게 사용하자.\n"
   ]
  },
  {
   "cell_type": "code",
   "execution_count": 7,
   "id": "6128648c",
   "metadata": {},
   "outputs": [
    {
     "name": "stdout",
     "output_type": "stream",
     "text": [
      "0\n",
      "0\n"
     ]
    }
   ],
   "source": [
    "# python code\n",
    "green_str = my_values.get('초록', [''])\n",
    "if green_str[0]:\n",
    "    green = int(green_str[0])\n",
    "else:\n",
    "    green = 0\n",
    "\n",
    "print(green)    \n",
    "\n",
    "def get_first_int(values, key, default=0):\n",
    "    found = values.get(key, [''])\n",
    "    if found[0]:\n",
    "        return int(found[0])\n",
    "    return default\n",
    "\n",
    "green = get_first_int(my_values, '초록')\n",
    "\n",
    "print(green)    \n",
    "# 내가 배운 포인트\n",
    "# - 로직을 풀어서 쓸 수 있지만 아래와 같이 함수 호출을 사용해서 코딩을하면 조금 더 명확해짐."
   ]
  },
  {
   "cell_type": "markdown",
   "id": "3231f1b5",
   "metadata": {},
   "source": [
    "### Better way 6"
   ]
  },
  {
   "cell_type": "code",
   "execution_count": null,
   "id": "00538cdd",
   "metadata": {},
   "outputs": [
    {
     "name": "stdout",
     "output_type": "stream",
     "text": [
      "(('감자칩', 140), ('팝콘', 80), ('땅콩', 190))\n",
      "호박엿 & 식혜\n"
     ]
    }
   ],
   "source": [
    "# code \n",
    "\n",
    "###\n",
    "### 아이템 6\n",
    "###\n",
    "\n",
    "## 튜플로 불러오기.\n",
    "snack_calories = {\n",
    "    '감자칩': 140,\n",
    "    '팝콘': 80,\n",
    "    '땅콩': 190,\n",
    "}\n",
    "items = tuple(snack_calories.items())\n",
    "print(items)\n",
    "\n",
    "\n",
    "item = ('호박엿', '식혜')\n",
    "first = item[0]\n",
    "second = item[1]\n",
    "print(first, '&', second)\n",
    "\n",
    "pair = ('약과', '호박엿')\n",
    "\n",
    "# 오류가 나는 부분. 오류를 보고 싶으면 커멘트를 해제할것\n",
    "#pair[0] = '타래과'    # TypeError\n",
    "\n",
    "# 언패킹 구문을 사용하면 문장안에서 여러 값을 대입 할 수 있음.\n"
   ]
  },
  {
   "cell_type": "code",
   "execution_count": null,
   "id": "c274c6e9",
   "metadata": {},
   "outputs": [
    {
     "name": "stdout",
     "output_type": "stream",
     "text": [
      "호박엿 & 식혜\n",
      "{'짭조름한 과자': ('프레즐', 100), '달콤한 과자': ('쿠키', 180), '채소': ('당근', 20)}\n",
      "제일 좋아하는 짭조름한 과자 는 프레즐, 100 칼로리입니다.\n",
      "제일 좋아하는 달콤한 과자 는 쿠키,  180 칼로리입니다.\n",
      "제일 좋아하는 채소 는 당근,  20 칼로리입니다.\n"
     ]
    }
   ],
   "source": [
    "# python code\n",
    "\n",
    "item = ('호박엿', '식혜')\n",
    "first, second = item # 언패킹\n",
    "print(first, '&', second)\n",
    "\n",
    "favorite_snacks = {\n",
    "    '짭조름한 과자': ('프레즐', 100),\n",
    "    '달콤한 과자': ('쿠키', 180),\n",
    "    '채소': ('당근', 20),\n",
    "}\n",
    "\n",
    "((type1, (name1, cals1)),\n",
    " (type2, (name2, cals2)),\n",
    " (type3, (name3, cals3))) = favorite_snacks.items()\n",
    "\n",
    "print(favorite_snacks)\n",
    "\n",
    "print(f'제일 좋아하는 {type1} 는 {name1}, {cals1} 칼로리입니다.')\n",
    "print(f'제일 좋아하는 {type2} 는 {name2},  {cals2} 칼로리입니다.')\n",
    "print(f'제일 좋아하는 {type3} 는 {name3},  {cals3} 칼로리입니다.')\n",
    "\n",
    "# key point\n",
    "# - 언패킹 구문을 이용하여 이터러블안 여러 계층을 사용 할 수 있다."
   ]
  },
  {
   "cell_type": "code",
   "execution_count": null,
   "id": "2f968c0f",
   "metadata": {},
   "outputs": [
    {
     "name": "stdout",
     "output_type": "stream",
     "text": [
      "['당근', '베이컨', '쑥갓', '프레즐']\n",
      "['당근', '베이컨', '쑥갓', '프레즐']\n",
      "#1: 베이컨 은 350 칼로리입니다.\n",
      "#2: 도넛 은 240 칼로리입니다.\n",
      "#3: 머핀 은 190 칼로리입니다.\n",
      "#1: 베이컨 은 350 칼로리입니다.\n",
      "#2: 도넛 은 240 칼로리입니다.\n",
      "#3: 머핀 은 190 칼로리입니다.\n"
     ]
    }
   ],
   "source": [
    "# python code\n",
    "\n",
    "def bubble_sort(a):\n",
    "    for _ in range(len(a)):\n",
    "        for i in range(1, len(a)):\n",
    "            if a[i] < a[i-1]:\n",
    "                temp = a[i]\n",
    "                a[i] = a[i-1]\n",
    "                a[i-1] = temp\n",
    "\n",
    "names = ['프레즐', '당근', '쑥갓', '베이컨']\n",
    "bubble_sort(names)\n",
    "print(names)\n",
    "\n",
    "def bubble_sort(a):\n",
    "    for _ in range(len(a)):\n",
    "        for i in range(1, len(a)):\n",
    "            if a[i] < a[i-1]:\n",
    "                a[i-1], a[i] = a[i], a[i-1] # 맞바꾸기\n",
    "\n",
    "\n",
    "names = ['프레즐', '당근', '쑥갓', '베이컨']\n",
    "bubble_sort(names)\n",
    "print(names)\n",
    "\n",
    "snacks = [('베이컨', 350), ('도넛', 240), ('머핀', 190)]\n",
    "for i in range(len(snacks)):        # 리스트에 대해서 이터레이션 하는 코드\n",
    "    item = snacks[i]\n",
    "    name = item[0]\n",
    "    calories = item[1]\n",
    "    print(f'#{i+1}: {name} 은 {calories} 칼로리입니다.')\n",
    "\n",
    "for rank, (name, calories) in enumerate(snacks, 1):     # enumerate 함수를 이용하여 간략하게 작성\n",
    "    print(f'#{rank}: {name} 은 {calories} 칼로리입니다.')\n",
    "\n",
    "# key point\n",
    "#  - 전체 로직을 쓰기 보다는 언패킹 문법을 사용해서 간략하고 가독성 좋게 바꾸자!!     "
   ]
  },
  {
   "cell_type": "markdown",
   "id": "3e1a1815",
   "metadata": {},
   "source": [
    "### better way 7"
   ]
  },
  {
   "cell_type": "code",
   "execution_count": null,
   "id": "15cb5d84",
   "metadata": {},
   "outputs": [
    {
     "name": "stdout",
     "output_type": "stream",
     "text": [
      "0b10100011110110011000000011000111\n",
      "바닐라 맛있어요.\n",
      "초콜릿 맛있어요.\n",
      "피칸 맛있어요.\n",
      "딸기 맛있어요.\n",
      "1: 바닐라\n",
      "2: 초콜릿\n",
      "3: 피칸\n",
      "4: 딸기\n",
      "(0, '바닐라')\n",
      "(1, '초콜릿')\n",
      "1: 바닐라\n",
      "2: 초콜릿\n",
      "3: 피칸\n",
      "4: 딸기\n",
      "1: 바닐라\n",
      "2: 초콜릿\n",
      "3: 피칸\n",
      "4: 딸기\n"
     ]
    }
   ],
   "source": [
    "# code\n",
    "###\n",
    "### 아이템 7\n",
    "###\n",
    "\n",
    "from random import randint\n",
    "\n",
    "random_bits = 0\n",
    "for i in range(32):\n",
    "    if randint(0, 1):\n",
    "        random_bits |= 1 << i\n",
    "\n",
    "print(bin(random_bits))\n",
    " \n",
    "flavor_list = ['바닐라', '초콜릿', '피칸', '딸기'] \n",
    "for flavor in flavor_list:\n",
    "    print(f'{flavor} 맛있어요.')\n",
    "\n",
    "\n",
    "for i in range(len(flavor_list)):\n",
    "    flavor = flavor_list[i]\n",
    "    print(f'{i + 1}: {flavor}')\n",
    "\n",
    "it = enumerate(flavor_list)\n",
    "print(next(it))\n",
    "print(next(it))\n",
    "\n",
    "for i, flavor in enumerate(flavor_list):\n",
    "    print(f'{i + 1}: {flavor}')\n",
    "\n",
    "for i, flavor in enumerate(flavor_list, 1):\n",
    "    print(f'{i}: {flavor}')\n",
    "\n",
    "# key point\n",
    "# - 이터레이션 할 대상 데이터 구조가 있으면 바로 사용 가능.\n",
    "# 항목\trange()\tenumerate()\n",
    "# 기능\t숫자 시퀀스 생성\t인덱스 + 값을 동시에 반환\n",
    "# 주 사용처\t단순 반복 제어\t리스트 항목 접근\n",
    "# 반환 형태\tint\t(index, value) 튜플"
   ]
  },
  {
   "cell_type": "markdown",
   "id": "dee18cb8",
   "metadata": {},
   "source": [
    "### better way 8"
   ]
  },
  {
   "cell_type": "code",
   "execution_count": null,
   "id": "0e432407",
   "metadata": {},
   "outputs": [
    {
     "name": "stdout",
     "output_type": "stream",
     "text": [
      "[7, 4, 3]\n",
      "Cecilia\n",
      "Cecilia\n",
      "Cecilia\n",
      "Cecilia\n",
      "남궁민수\n",
      "毛泽东\n",
      "Cecilia: 7\n",
      "남궁민수: 4\n",
      "毛泽东: 3\n",
      "Rosalind: None\n"
     ]
    }
   ],
   "source": [
    "# code\n",
    "\n",
    "###\n",
    "### 아이템 8\n",
    "###\n",
    "\n",
    "\n",
    "names = ['Cecilia', '남궁민수', '毛泽东']\n",
    "counts = [len(n) for n in names]\n",
    "print(counts)\n",
    "\n",
    "longest_name = None\n",
    "max_count = 0\n",
    "\n",
    "## 아래 코드는 해당 데이터 셋에서 이름이 제일 긴 데이터를 반환하는데, 가독성이 떨어짐.\n",
    "for i in range(len(names)):\n",
    "    count = counts[i]\n",
    "    if count > max_count:\n",
    "        longest_name = names[i]\n",
    "        max_count = count\n",
    "\n",
    "print(longest_name)\n",
    "\n",
    "## names 에 enumerate 를 사용하여 수정하였지만, 여전히 가독성이 좋지 않은 상태.\n",
    "longest_name = None\n",
    "max_count = 0\n",
    "\n",
    "for i, name in enumerate(names):\n",
    "    count = counts[i]\n",
    "    if count > max_count:\n",
    "        longest_name = name\n",
    "        max_count = count\n",
    "\n",
    "print(longest_name)\n",
    "\n",
    "## zip 을 사용하면 2개 이상의 데이터를 이터레이터 할 수 있게 해준다.\n",
    "## 약간 튜플 데이터의 압축파일 스타일로 사용함.\n",
    "longest_name = None\n",
    "max_count = 0\n",
    "\n",
    "for name, count in zip(names, counts):\n",
    "    if count > max_count:\n",
    "        longest_name = name\n",
    "        max_count = count\n",
    "\n",
    "print(longest_name)\n",
    "\n",
    "## 만약 두 데이터의 길이가 다르면 짧은 쪽 데이터 기준으로 사용한다.\n",
    "names.append('Rosalind')\n",
    "for name, count in zip(names, counts):\n",
    "    print(name)\n",
    "\n",
    "import itertools\n",
    "for name, count in itertools.zip_longest(names, counts):\n",
    "    print(f'{name}: {count}')\n",
    "\n",
    "# key point\n",
    "# - zip 을 쓰면 여러개 데이터를 이터레이션 할때 활용하면 리소스나 가독성이 좋아진다.\n",
    "# - 두 개 데이터가 다르면 짧은 쪽 데이터만 가져오고 긴쪽에 추가로 있는 데이터는 나오지 않는다."
   ]
  },
  {
   "cell_type": "markdown",
   "id": "79dec5b4",
   "metadata": {},
   "source": [
    "### Better way 9"
   ]
  },
  {
   "cell_type": "code",
   "execution_count": null,
   "id": "5f3593cd",
   "metadata": {},
   "outputs": [
    {
     "name": "stdout",
     "output_type": "stream",
     "text": [
      "Loop 0\n",
      "Loop 1\n",
      "Loop 2\n",
      "Else block!\n",
      "Loop 0\n",
      "Loop 1\n",
      "For Else block!\n",
      "While Else block!\n",
      "검사 중 2\n",
      "검사 중 3\n",
      "검사 중 4\n",
      "서로소\n"
     ]
    }
   ],
   "source": [
    "###\n",
    "### 아이템 9\n",
    "###\n",
    "\n",
    "## 만약 for 구문에 else 구문이 있으면 for 문이 범위내에서 모두 돌아가고 추가로 결과가 반환.\n",
    "for i in range(3):\n",
    "    print('Loop', i)\n",
    "else:\n",
    "    print('Else block!')\n",
    "\n",
    "## break 를 쓰면 원하는 인덱스 위치에서 멈추고, else 요건도 반환되지 않음.\n",
    "for i in range(3):\n",
    "    print('Loop', i)\n",
    "    if i == 1:\n",
    "        break\n",
    "else:\n",
    "    print('Else block!')\n",
    "\n",
    "## 만약 for 구문의 x 값의 데이터가 없다면 else 요건만 발동.\n",
    "for x in []:\n",
    "    print('이 줄은 실행되지 않음')\n",
    "else:\n",
    "    print('For Else block!')\n",
    "\n",
    "## while 구문도 마찬가지로 False 라면, else 요건만 발동.\n",
    "while False:\n",
    "    print('이 줄은 실행되지 않음')\n",
    "else:\n",
    "    print('While Else block!')\n",
    "\n",
    "## 서로소( 두 수의 공약수가 1밖에 없음)인지 확인하는 함수.\n",
    "a = 4\n",
    "b = 9\n",
    "\n",
    "## 아래 코드는 1 부터 4까지 모두 검사함. 가독성 좋지 않음.\n",
    "for i in range(2, min(a, b) + 1):\n",
    "    print('검사 중', i)\n",
    "    if a % i == 0 and b % i == 0: # 두개 데이터 모두 나머지가 0일 경우에는 서로소.\n",
    "        print('서로소 아님')\n",
    "        break\n",
    "else:\n",
    "    print('서로소')\n",
    "\n",
    "## 도우미 함수 사용. 원하는 조건을 찾자마자 함수를 반환.\n",
    "def coprime(a, b):\n",
    "    for i in range(2, min(a, b) + 1):\n",
    "        if a % i == 0 and b % i == 0:\n",
    "            return False\n",
    "    return True\n",
    "\n",
    "assert coprime(4, 9) # True(서로고 관계) 이기 때문에 아무 결과가 나오지 않음.\n",
    "assert not coprime(3, 6) # False(서로소 관계) 이기 때문에 아무 결과가 나오지 않음.\n",
    "\n",
    "## 원하는 대상을 찾았는지 나타내는 결과 변수 도입. 원하는 변수가 있으면 break 로 빠져나옴.\n",
    "def coprime_alternate(a, b):\n",
    "    is_coprime = True\n",
    "    for i in range(2, min(a, b) + 1):\n",
    "        if a % i == 0 and b % i == 0:\n",
    "            is_coprime = False\n",
    "            break\n",
    "    return is_coprime\n",
    "\n",
    "assert coprime_alternate(4, 9)\n",
    "assert not coprime_alternate(3, 6)\n"
   ]
  }
 ],
 "metadata": {
  "kernelspec": {
   "display_name": ".venv",
   "language": "python",
   "name": "python3"
  },
  "language_info": {
   "codemirror_mode": {
    "name": "ipython",
    "version": 3
   },
   "file_extension": ".py",
   "mimetype": "text/x-python",
   "name": "python",
   "nbconvert_exporter": "python",
   "pygments_lexer": "ipython3",
   "version": "3.11.5"
  }
 },
 "nbformat": 4,
 "nbformat_minor": 5
}
