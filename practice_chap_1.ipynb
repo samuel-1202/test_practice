{
 "cells": [
  {
   "cell_type": "code",
   "execution_count": null,
   "id": "32f4c5e1",
   "metadata": {},
   "outputs": [
    {
     "name": "stdout",
     "output_type": "stream",
     "text": [
      "sys.version_info(major=3, minor=11, micro=5, releaselevel='final', serial=0)\n",
      "3.11.5 (v3.11.5:cce6ba91b3, Aug 24 2023, 10:50:31) [Clang 13.0.0 (clang-1300.0.29.30)]\n"
     ]
    }
   ],
   "source": [
    "import sys\n",
    "print(sys.version_info)\n",
    "print(sys.version)"
   ]
  },
  {
   "cell_type": "markdown",
   "id": "c8cab1cd",
   "metadata": {},
   "source": [
    "### better way 3 : bytes 와 str 의 차이를 알아두어라"
   ]
  },
  {
   "cell_type": "code",
   "execution_count": 5,
   "id": "1d9def29",
   "metadata": {},
   "outputs": [
    {
     "name": "stdout",
     "output_type": "stream",
     "text": [
      "'foo'\n",
      "'bar'\n",
      "'한'\n"
     ]
    }
   ],
   "source": [
    "def do_str(bytes_or_str):\n",
    "    if isinstance(bytes_or_str, bytes):\n",
    "        value = bytes_or_str.decode('utf-8')\n",
    "    else:\n",
    "        value = bytes_or_str\n",
    "    return value # str 인스턴스\n",
    "\n",
    "print(repr(do_str(b'foo')))\n",
    "print(repr(do_str('bar')))\n",
    "print(repr(do_str(b'\\xed\\x95\\x9c')))"
   ]
  },
  {
   "cell_type": "code",
   "execution_count": 6,
   "id": "a3ae5a94",
   "metadata": {},
   "outputs": [
    {
     "name": "stdout",
     "output_type": "stream",
     "text": [
      "b'onetwo'\n",
      "onetwo\n"
     ]
    }
   ],
   "source": [
    "print(b'one' + b'two')\n",
    "print('one' + 'two')"
   ]
  },
  {
   "cell_type": "code",
   "execution_count": 7,
   "id": "f2832997",
   "metadata": {},
   "outputs": [
    {
     "ename": "TypeError",
     "evalue": "can only concatenate str (not \"bytes\") to str",
     "output_type": "error",
     "traceback": [
      "\u001b[31m---------------------------------------------------------------------------\u001b[39m",
      "\u001b[31mTypeError\u001b[39m                                 Traceback (most recent call last)",
      "\u001b[36mCell\u001b[39m\u001b[36m \u001b[39m\u001b[32mIn[7]\u001b[39m\u001b[32m, line 1\u001b[39m\n\u001b[32m----> \u001b[39m\u001b[32m1\u001b[39m \u001b[33;43m'\u001b[39;49m\u001b[33;43mone\u001b[39;49m\u001b[33;43m'\u001b[39;49m\u001b[43m \u001b[49m\u001b[43m+\u001b[49m\u001b[43m \u001b[49m\u001b[33;43mb\u001b[39;49m\u001b[33;43m'\u001b[39;49m\u001b[33;43mtwo\u001b[39;49m\u001b[33;43m'\u001b[39;49m\n",
      "\u001b[31mTypeError\u001b[39m: can only concatenate str (not \"bytes\") to str"
     ]
    }
   ],
   "source": [
    "'one' + b'two'"
   ]
  },
  {
   "cell_type": "code",
   "execution_count": 8,
   "id": "490eecbf",
   "metadata": {},
   "outputs": [
    {
     "ename": "TypeError",
     "evalue": "write() argument must be str, not bytes",
     "output_type": "error",
     "traceback": [
      "\u001b[31m---------------------------------------------------------------------------\u001b[39m",
      "\u001b[31mTypeError\u001b[39m                                 Traceback (most recent call last)",
      "\u001b[36mCell\u001b[39m\u001b[36m \u001b[39m\u001b[32mIn[8]\u001b[39m\u001b[32m, line 2\u001b[39m\n\u001b[32m      1\u001b[39m \u001b[38;5;28;01mwith\u001b[39;00m \u001b[38;5;28mopen\u001b[39m(\u001b[33m'\u001b[39m\u001b[33mdata.bin\u001b[39m\u001b[33m'\u001b[39m,\u001b[33m'\u001b[39m\u001b[33mw\u001b[39m\u001b[33m'\u001b[39m) \u001b[38;5;28;01mas\u001b[39;00m f:\n\u001b[32m----> \u001b[39m\u001b[32m2\u001b[39m     \u001b[43mf\u001b[49m\u001b[43m.\u001b[49m\u001b[43mwrite\u001b[49m\u001b[43m(\u001b[49m\u001b[33;43mb\u001b[39;49m\u001b[33;43m'\u001b[39;49m\u001b[38;5;130;43;01m\\xf1\u001b[39;49;00m\u001b[38;5;130;43;01m\\xf2\u001b[39;49;00m\u001b[38;5;130;43;01m\\xf3\u001b[39;49;00m\u001b[38;5;130;43;01m\\xf4\u001b[39;49;00m\u001b[38;5;130;43;01m\\xf5\u001b[39;49;00m\u001b[33;43m'\u001b[39;49m\u001b[43m)\u001b[49m\n",
      "\u001b[31mTypeError\u001b[39m: write() argument must be str, not bytes"
     ]
    }
   ],
   "source": [
    "with open('data.bin','w') as f:\n",
    "    f.write(b'\\xf1\\xf2\\xf3\\xf4\\xf5')"
   ]
  }
 ],
 "metadata": {
  "kernelspec": {
   "display_name": ".venv",
   "language": "python",
   "name": "python3"
  },
  "language_info": {
   "codemirror_mode": {
    "name": "ipython",
    "version": 3
   },
   "file_extension": ".py",
   "mimetype": "text/x-python",
   "name": "python",
   "nbconvert_exporter": "python",
   "pygments_lexer": "ipython3",
   "version": "3.11.5"
  }
 },
 "nbformat": 4,
 "nbformat_minor": 5
}
